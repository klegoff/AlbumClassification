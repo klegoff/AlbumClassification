{
 "cells": [
  {
   "cell_type": "markdown",
   "metadata": {
    "id": "csK6KV1K_3R6"
   },
   "source": [
    "# 1. Import and path configuration part"
   ]
  },
  {
   "cell_type": "code",
   "execution_count": 1,
   "metadata": {
    "colab": {
     "base_uri": "https://localhost:8080/"
    },
    "executionInfo": {
     "elapsed": 4242,
     "status": "ok",
     "timestamp": 1608412411205,
     "user": {
      "displayName": "Killian Le Goff",
      "photoUrl": "",
      "userId": "08050555183663431107"
     },
     "user_tz": -60
    },
    "id": "vKnmafmTuAW2",
    "outputId": "f0a56e4b-806c-4a97-bed5-007f710ffbd6"
   },
   "outputs": [],
   "source": [
    "import os\n",
    "import numpy as np\n",
    "import pickle\n",
    "import pandas as pd\n",
    "from PIL import Image,ImageFile\n",
    "import copy\n",
    "import matplotlib.pyplot as plt\n",
    "import random\n",
    "from collections import Counter\n",
    "import seaborn as sns\n",
    "\n",
    "from sklearn.model_selection import train_test_split\n",
    "from sklearn.preprocessing import StandardScaler, MinMaxScaler\n",
    "from sklearn.linear_model import SGDClassifier, LogisticRegression\n",
    "from sklearn.metrics import accuracy_score, confusion_matrix, ConfusionMatrixDisplay\n",
    "from sklearn.utils import class_weight\n",
    "\n",
    "from keras.layers import Conv2D, MaxPool2D, Flatten, Dropout, Dense, Activation\n",
    "from keras import Sequential\n",
    "from keras.metrics import CategoricalCrossentropy, Accuracy\n",
    "\n",
    "ImageFile.LOAD_TRUNCATED_IMAGES = True\n",
    "\n"
   ]
  },
  {
   "cell_type": "code",
   "execution_count": 2,
   "metadata": {},
   "outputs": [
    {
     "ename": "IndentationError",
     "evalue": "expected an indented block (utils.py, line 96)",
     "output_type": "error",
     "traceback": [
      "Traceback \u001b[0;36m(most recent call last)\u001b[0m:\n",
      "  File \u001b[1;32m\"/home/klegoff/.local/lib/python3.8/site-packages/IPython/core/interactiveshell.py\"\u001b[0m, line \u001b[1;32m3418\u001b[0m, in \u001b[1;35mrun_code\u001b[0m\n    exec(code_obj, self.user_global_ns, self.user_ns)\n",
      "\u001b[0;36m  File \u001b[0;32m\"<ipython-input-2-a5e9ca8b0482>\"\u001b[0;36m, line \u001b[0;32m3\u001b[0;36m, in \u001b[0;35m<module>\u001b[0;36m\u001b[0m\n\u001b[0;31m    from utils import *\u001b[0m\n",
      "\u001b[0;36m  File \u001b[0;32m\"/media/klegoff/2aecd546-537e-4c64-8dc0-bbd3b8e7773c/klegoff/git_synchronized/AlbumClassification/src/utils.py\"\u001b[0;36m, line \u001b[0;32m96\u001b[0m\n\u001b[0;31m    class_weight[i] = weight[i]\u001b[0m\n\u001b[0m    ^\u001b[0m\n\u001b[0;31mIndentationError\u001b[0m\u001b[0;31m:\u001b[0m expected an indented block\n"
     ]
    }
   ],
   "source": [
    "from sam_utils import *\n",
    "from models import *\n",
    "from utils import *"
   ]
  },
  {
   "cell_type": "code",
   "execution_count": null,
   "metadata": {
    "colab": {
     "base_uri": "https://localhost:8080/"
    },
    "executionInfo": {
     "elapsed": 4994,
     "status": "ok",
     "timestamp": 1608412411962,
     "user": {
      "displayName": "Killian Le Goff",
      "photoUrl": "",
      "userId": "08050555183663431107"
     },
     "user_tz": -60
    },
    "id": "MFucTovvqdqq",
    "outputId": "aab0306b-7c16-497b-9c69-6ca4f708be99"
   },
   "outputs": [],
   "source": [
    "datapath = \"../data/msdi/\"\n",
    "os.chdir(datapath)"
   ]
  },
  {
   "cell_type": "code",
   "execution_count": null,
   "metadata": {},
   "outputs": [],
   "source": [
    "!ls"
   ]
  },
  {
   "cell_type": "markdown",
   "metadata": {
    "id": "JBVlKsGkAAWP"
   },
   "source": [
    "# 2. Load the data references\n",
    "\n"
   ]
  },
  {
   "cell_type": "code",
   "execution_count": null,
   "metadata": {},
   "outputs": [],
   "source": [
    "msdi = get_msdi_dataframe(\"\") # all the references of our data"
   ]
  },
  {
   "cell_type": "code",
   "execution_count": null,
   "metadata": {},
   "outputs": [],
   "source": [
    "msdi.head(2)"
   ]
  },
  {
   "cell_type": "markdown",
   "metadata": {
    "id": "V9Vfx9NQEhWv"
   },
   "source": [
    "# 3. Image subsampling comparison"
   ]
  },
  {
   "cell_type": "code",
   "execution_count": null,
   "metadata": {
    "id": "sAuKPwe1jyv7"
   },
   "outputs": [],
   "source": [
    "# compare our 3 sampling methods for multiple images (see utils.py file for more details)\n",
    "raw_data = {}\n",
    "naive_sampling_data = {}\n",
    "average_sampling_data = {}\n",
    "clean_sampling_data = {}\n",
    "key_list = []\n",
    "n=10\n",
    "\n",
    "for k in [random.randint(0, len(msdi)-1) for i in range(3)]: # shuffle to get another set of image\n",
    "    #array = data.get(k)\n",
    "    array = load_img(entry = msdi.iloc[k], msdi_path=\"\")\n",
    "    raw_data[k] = array\n",
    "    naive_sampling_data[k] = naive_sampling(array, n)\n",
    "    average_sampling_data[k] = average_sampling(array, n)\n",
    "    clean_sampling_data[k] = clean_sampling(array, n)\n",
    "\n",
    "    key_list.append(k)\n",
    "\n",
    "fig, axes = plt.subplots(len(key_list), 4, figsize=(15,15))\n",
    "\n",
    "for i in range(len(key_list)):\n",
    "    k = key_list[i]\n",
    "    axes[i][0].imshow(raw_data[k]) # raw image\n",
    "    axes[i][1].imshow(naive_sampling_data[k]) # naively sampled image\n",
    "    axes[i][2].imshow(average_sampling_data[k]) # averagesampled image\n",
    "    axes[i][3].imshow(clean_sampling_data[k]) # cleanly sampled image\n",
    "\n",
    "# we see that the naive sampling has a high variance. Some small elements can constiture 1 element of the picture, and thus lead to a lot of dropped information.\n",
    "# Average sampling helps more to distinguish part of the images, and averages the colors in each portion of the image.\n",
    "# Average sampling and clean sampling methods are quite equivalent in term of results (but still clean sampling is better in term of details)"
   ]
  },
  {
   "cell_type": "markdown",
   "metadata": {
    "id": "D877vt0PZBI_"
   },
   "source": [
    "# 4. HOG feature comparison"
   ]
  },
  {
   "cell_type": "code",
   "execution_count": null,
   "metadata": {
    "id": "DZPcpTOISse7"
   },
   "outputs": [],
   "source": [
    "# compare our the hog features for different parameters\n",
    "hog4 = {}\n",
    "hog8 = {}\n",
    "hog16 = {}\n",
    "raw_img = {}\n",
    "key_list = []\n",
    "\n",
    "for k in [random.randint(0, len(msdi)-1) for i in range(3)]: # shuffle to get another set of image\n",
    "    array = load_img(entry = msdi.iloc[k], msdi_path=\"\")\n",
    "    raw_img[k] = array\n",
    "    hog4[k] = compute_hog(array, 4)\n",
    "    hog8[k] = compute_hog(array, 8)\n",
    "    hog16[k] = compute_hog(array, 16)\n",
    "    key_list.append(k)\n",
    "\n",
    "fig, axes = plt.subplots(len(key_list), 4, figsize=(20,20))\n",
    "\n",
    "for i in range(len(key_list)):\n",
    "    k = key_list[i]\n",
    "    axes[i][0].imshow(raw_img[k]) # raw image\n",
    "    axes[i][1].imshow(hog16[k]) # 16 hog image\n",
    "    axes[i][2].imshow(hog8[k]) # 8 hog image\n",
    "    axes[i][3].imshow(hog4[k]) # 4 hog image\n",
    "\n",
    "# with hog=4 we loose a lot of information (the geometric aspect of the image is a bit lost in non rectangular areas), but not so much from switching from 8 to 16. It would be interesting to see the impact on the prediction results."
   ]
  },
  {
   "cell_type": "markdown",
   "metadata": {
    "id": "qUGSKQAMbYe7"
   },
   "source": [
    "# 5. Image classifier"
   ]
  },
  {
   "cell_type": "markdown",
   "metadata": {
    "id": "aq_71T9DGY1x"
   },
   "source": [
    "## 1. Data formatting"
   ]
  },
  {
   "cell_type": "code",
   "execution_count": null,
   "metadata": {},
   "outputs": [],
   "source": [
    "labels = msdi.genre.values\n",
    "ref = msdi.msd_track_id.values\n",
    "data = msdi.iloc[:1000].apply(preprocess_image_vectorized, axis=1)\n",
    "labels = labels[:1000]\n",
    "ref = ref[:1000]"
   ]
  },
  {
   "cell_type": "code",
   "execution_count": null,
   "metadata": {
    "colab": {
     "base_uri": "https://localhost:8080/"
    },
    "executionInfo": {
     "elapsed": 1036,
     "status": "ok",
     "timestamp": 1608412579508,
     "user": {
      "displayName": "Killian Le Goff",
      "photoUrl": "",
      "userId": "08050555183663431107"
     },
     "user_tz": -60
    },
    "id": "NtHM8veJxYNC",
    "outputId": "31c5c262-c5a2-4639-9e34-3b4831a35448"
   },
   "outputs": [],
   "source": [
    "print(len(Counter(labels)), Counter(labels)) # number of labels & repartition of the labels"
   ]
  },
  {
   "cell_type": "code",
   "execution_count": null,
   "metadata": {},
   "outputs": [],
   "source": [
    "X = np.array(list(data.values))"
   ]
  },
  {
   "cell_type": "code",
   "execution_count": null,
   "metadata": {},
   "outputs": [],
   "source": [
    "Y, classes, y_dict = one_hot_encode(labels)"
   ]
  },
  {
   "cell_type": "code",
   "execution_count": null,
   "metadata": {
    "colab": {
     "base_uri": "https://localhost:8080/"
    },
    "executionInfo": {
     "elapsed": 3827,
     "status": "ok",
     "timestamp": 1608412582310,
     "user": {
      "displayName": "Killian Le Goff",
      "photoUrl": "",
      "userId": "08050555183663431107"
     },
     "user_tz": -60
    },
    "id": "qR-2ZAJ5Iscp",
    "outputId": "8efc4258-f916-43ae-8b46-23a95d6717fc"
   },
   "outputs": [],
   "source": [
    "print(X.shape,Y.shape)"
   ]
  },
  {
   "cell_type": "code",
   "execution_count": 225,
   "metadata": {
    "executionInfo": {
     "elapsed": 3825,
     "status": "ok",
     "timestamp": 1608412582311,
     "user": {
      "displayName": "Killian Le Goff",
      "photoUrl": "",
      "userId": "08050555183663431107"
     },
     "user_tz": -60
    },
    "id": "A_i-L-1Ep6hL"
   },
   "outputs": [],
   "source": [
    "#normalize our data (X will take its values in [0,1] interval)\n",
    "\n",
    "normalize = False\n",
    "\n",
    "if normalize:\n",
    "    X = X.astype(np.float16) # cast to signed int\n",
    "\n",
    "    for i in range(X.shape[0]):\n",
    "        X[i] = X[i]/255\n",
    "        if i in [10,100,1000,10000]:\n",
    "            print(i)"
   ]
  },
  {
   "cell_type": "markdown",
   "metadata": {
    "id": "7xnAmEC-IFUo"
   },
   "source": [
    "## 2. Simplistic model : 3x3 array, logistic regression"
   ]
  },
  {
   "cell_type": "code",
   "execution_count": 228,
   "metadata": {
    "id": "WkqTvglRVzCC"
   },
   "outputs": [],
   "source": [
    "clf = SGDClassifier()"
   ]
  },
  {
   "cell_type": "code",
   "execution_count": 252,
   "metadata": {
    "colab": {
     "base_uri": "https://localhost:8080/"
    },
    "executionInfo": {
     "elapsed": 1584,
     "status": "ok",
     "timestamp": 1608117716541,
     "user": {
      "displayName": "Killian Le Goff",
      "photoUrl": "",
      "userId": "08050555183663431107"
     },
     "user_tz": -60
    },
    "id": "UF7J_M7tXVsa",
    "outputId": "a29d289e-b481-497f-d4e3-b03d2d19b211"
   },
   "outputs": [
    {
     "data": {
      "text/plain": [
       "SGDClassifier()"
      ]
     },
     "execution_count": 252,
     "metadata": {},
     "output_type": "execute_result"
    }
   ],
   "source": [
    "#train/test split\n",
    "X_train, X_test, Y_train, Y_test = train_test_split(X.reshape(len(X),-1), classes, test_size=0.2)\n",
    "\n",
    "# train classifier\n",
    "clf.fit(X_train, Y_train)"
   ]
  },
  {
   "cell_type": "code",
   "execution_count": 253,
   "metadata": {
    "colab": {
     "base_uri": "https://localhost:8080/"
    },
    "executionInfo": {
     "elapsed": 591,
     "status": "ok",
     "timestamp": 1608117719814,
     "user": {
      "displayName": "Killian Le Goff",
      "photoUrl": "",
      "userId": "08050555183663431107"
     },
     "user_tz": -60
    },
    "id": "RU8YDxj1X_2G",
    "outputId": "56ff34e3-3b1a-40a3-9e74-09a701c2ff3d"
   },
   "outputs": [
    {
     "name": "stdout",
     "output_type": "stream",
     "text": [
      "0.25\n"
     ]
    }
   ],
   "source": [
    "#predict on the test set\n",
    "Y_pred = clf.predict(X_test)\n",
    "print(accuracy_score(Y_pred, Y_test))"
   ]
  },
  {
   "cell_type": "code",
   "execution_count": 254,
   "metadata": {
    "colab": {
     "base_uri": "https://localhost:8080/",
     "height": 765
    },
    "executionInfo": {
     "elapsed": 942,
     "status": "ok",
     "timestamp": 1608117721940,
     "user": {
      "displayName": "Killian Le Goff",
      "photoUrl": "",
      "userId": "08050555183663431107"
     },
     "user_tz": -60
    },
    "id": "MC24EvjuhRwv",
    "outputId": "c684918b-e7fa-4b2e-ce8d-426fe13161fa"
   },
   "outputs": [
    {
     "data": {
      "image/png": "[encoded data removed]",
      "text/plain": [
       "<Figure size 1080x864 with 2 Axes>"
      ]
     },
     "metadata": {},
     "output_type": "display_data"
    }
   ],
   "source": [
    "# plot the confusion matrix\n",
    "plot_confusion(Y_test,Y_pred, y_dict)\n",
    "\n",
    "# We see that the most predicted labels by the classifier are 'electronic' and 'world'. Other labels are not so often predicted"
   ]
  },
  {
   "cell_type": "code",
   "execution_count": 255,
   "metadata": {
    "colab": {
     "base_uri": "https://localhost:8080/",
     "height": 720
    },
    "executionInfo": {
     "elapsed": 1081,
     "status": "ok",
     "timestamp": 1608117817484,
     "user": {
      "displayName": "Killian Le Goff",
      "photoUrl": "",
      "userId": "08050555183663431107"
     },
     "user_tz": -60
    },
    "id": "ti84NWL2GNO4",
    "outputId": "b55b85f7-5454-4467-fefd-fef506de2160",
    "scrolled": true
   },
   "outputs": [
    {
     "ename": "IndexError",
     "evalue": "index 10 is out of bounds for axis 0 with size 9",
     "output_type": "error",
     "traceback": [
      "\u001b[0;31m---------------------------------------------------------------------------\u001b[0m",
      "\u001b[0;31mIndexError\u001b[0m                                Traceback (most recent call last)",
      "\u001b[0;32m<ipython-input-255-0377e241533f>\u001b[0m in \u001b[0;36m<module>\u001b[0;34m\u001b[0m\n\u001b[1;32m      2\u001b[0m \u001b[0mkeep\u001b[0m\u001b[0;34m.\u001b[0m\u001b[0mremove\u001b[0m\u001b[0;34m(\u001b[0m\u001b[0;34m\"Rock\"\u001b[0m\u001b[0;34m)\u001b[0m\u001b[0;34m\u001b[0m\u001b[0;34m\u001b[0m\u001b[0m\n\u001b[1;32m      3\u001b[0m \u001b[0mkeep\u001b[0m\u001b[0;34m.\u001b[0m\u001b[0mremove\u001b[0m\u001b[0;34m(\u001b[0m\u001b[0;34m\"Electronic\"\u001b[0m\u001b[0;34m)\u001b[0m\u001b[0;34m\u001b[0m\u001b[0;34m\u001b[0m\u001b[0m\n\u001b[0;32m----> 4\u001b[0;31m \u001b[0mplot_confusion\u001b[0m\u001b[0;34m(\u001b[0m\u001b[0mY_test\u001b[0m\u001b[0;34m,\u001b[0m\u001b[0mY_pred\u001b[0m\u001b[0;34m,\u001b[0m \u001b[0my_dict\u001b[0m\u001b[0;34m,\u001b[0m \u001b[0mkeep\u001b[0m\u001b[0;34m)\u001b[0m\u001b[0;34m\u001b[0m\u001b[0;34m\u001b[0m\u001b[0m\n\u001b[0m\u001b[1;32m      5\u001b[0m \u001b[0;34m\u001b[0m\u001b[0m\n\u001b[1;32m      6\u001b[0m \u001b[0;31m#we see that, appart from our 2 most present classes (Rock and Electronic), our images get classified very randomly\u001b[0m\u001b[0;34m\u001b[0m\u001b[0;34m\u001b[0m\u001b[0;34m\u001b[0m\u001b[0m\n",
      "\u001b[0;32m/media/klegoff/2aecd546-537e-4c64-8dc0-bbd3b8e7773c/klegoff/git_synchronized/AlbumClassification/src/utils.py\u001b[0m in \u001b[0;36mplot_confusion\u001b[0;34m(y_true, y_pred, y_dict, keep)\u001b[0m\n\u001b[1;32m     76\u001b[0m         \u001b[0mlabels\u001b[0m \u001b[0;34m=\u001b[0m \u001b[0mlabels\u001b[0m\u001b[0;34m[\u001b[0m\u001b[0mkeep_lab_idx\u001b[0m\u001b[0;34m]\u001b[0m\u001b[0;34m\u001b[0m\u001b[0;34m\u001b[0m\u001b[0m\n\u001b[1;32m     77\u001b[0m \u001b[0;34m\u001b[0m\u001b[0m\n\u001b[0;32m---> 78\u001b[0;31m     \u001b[0;31m#disp = ConfusionMatrixDisplay(cm, display_labels=labels)\u001b[0m\u001b[0;34m\u001b[0m\u001b[0;34m\u001b[0m\u001b[0;34m\u001b[0m\u001b[0m\n\u001b[0m\u001b[1;32m     79\u001b[0m     \u001b[0msns\u001b[0m\u001b[0;34m.\u001b[0m\u001b[0mset\u001b[0m\u001b[0;34m(\u001b[0m\u001b[0mrc\u001b[0m\u001b[0;34m=\u001b[0m\u001b[0;34m{\u001b[0m\u001b[0;34m'figure.figsize'\u001b[0m\u001b[0;34m:\u001b[0m\u001b[0;34m(\u001b[0m\u001b[0;36m15\u001b[0m\u001b[0;34m,\u001b[0m\u001b[0;36m12\u001b[0m\u001b[0;34m)\u001b[0m\u001b[0;34m}\u001b[0m\u001b[0;34m)\u001b[0m\u001b[0;34m\u001b[0m\u001b[0;34m\u001b[0m\u001b[0m\n\u001b[1;32m     80\u001b[0m     \u001b[0max\u001b[0m \u001b[0;34m=\u001b[0m \u001b[0msns\u001b[0m\u001b[0;34m.\u001b[0m\u001b[0mheatmap\u001b[0m\u001b[0;34m(\u001b[0m\u001b[0mcm\u001b[0m\u001b[0;34m,\u001b[0m \u001b[0mxticklabels\u001b[0m\u001b[0;34m=\u001b[0m\u001b[0mlabels\u001b[0m\u001b[0;34m,\u001b[0m\u001b[0myticklabels\u001b[0m\u001b[0;34m=\u001b[0m\u001b[0mlabels\u001b[0m\u001b[0;34m)\u001b[0m\u001b[0;34m\u001b[0m\u001b[0;34m\u001b[0m\u001b[0m\n",
      "\u001b[0;31mIndexError\u001b[0m: index 10 is out of bounds for axis 0 with size 9"
     ]
    }
   ],
   "source": [
    "keep = list(y_dict.keys())\n",
    "keep.remove(\"Rock\")\n",
    "keep.remove(\"Electronic\")\n",
    "plot_confusion(Y_test,Y_pred, y_dict, keep)\n",
    "\n",
    "#we see that, appart from our 2 most present classes (Rock and Electronic), our images get classified very randomly\n",
    "# The confusion matrix of the ideal classifier should be a diagonal matrix, and the confusion matrix we get by removing \"Rock\" and \"Electronic\" genras are far from this ideal"
   ]
  },
  {
   "cell_type": "markdown",
   "metadata": {
    "id": "fmnRpSn4pEdh"
   },
   "source": [
    "## 3. CNN"
   ]
  },
  {
   "cell_type": "code",
   "execution_count": 12,
   "metadata": {
    "executionInfo": {
     "elapsed": 2767,
     "status": "ok",
     "timestamp": 1608412592683,
     "user": {
      "displayName": "Killian Le Goff",
      "photoUrl": "",
      "userId": "08050555183663431107"
     },
     "user_tz": -60
    },
    "id": "q7Ap2CsB0V4e"
   },
   "outputs": [],
   "source": [
    "#Use raw data as input of CNN\n",
    "\n",
    "# Train/Test split\n",
    "\n",
    "X_train, X_test, Y_train, Y_test = train_test_split(X, Y, test_size=0.2)\n",
    "del X # useful since X_train and X_test take additionnal space (which is valuable for the fitting of our model)\n"
   ]
  },
  {
   "cell_type": "code",
   "execution_count": 13,
   "metadata": {
    "colab": {
     "base_uri": "https://localhost:8080/"
    },
    "executionInfo": {
     "elapsed": 1058,
     "status": "ok",
     "timestamp": 1608412597808,
     "user": {
      "displayName": "Killian Le Goff",
      "photoUrl": "",
      "userId": "08050555183663431107"
     },
     "user_tz": -60
    },
    "id": "_EGc1UgETH81",
    "outputId": "0b1036f9-c270-41ca-8177-b50899fece14",
    "scrolled": true
   },
   "outputs": [
    {
     "data": {
      "text/plain": [
       "(13430, 200, 200, 3)"
      ]
     },
     "execution_count": 13,
     "metadata": {
      "tags": []
     },
     "output_type": "execute_result"
    }
   ],
   "source": [
    "X_train.shape"
   ]
  },
  {
   "cell_type": "code",
   "execution_count": 14,
   "metadata": {
    "colab": {
     "base_uri": "https://localhost:8080/"
    },
    "executionInfo": {
     "elapsed": 736,
     "status": "ok",
     "timestamp": 1608412598833,
     "user": {
      "displayName": "Killian Le Goff",
      "photoUrl": "",
      "userId": "08050555183663431107"
     },
     "user_tz": -60
    },
    "id": "1gkkk3sOt_nL",
    "outputId": "ecb672de-ef82-4fc3-ad42-1cc0a7da37d5"
   },
   "outputs": [
    {
     "name": "stdout",
     "output_type": "stream",
     "text": [
      "{0: 3.982419855222337, 1: 2.869597615499255, 2: 9.08254716981132, 3: 1.0, 4: 4.783850931677019, 5: 3.3428819444444446, 6: 1.51138147566719, 7: 2.0593582887700537, 8: 4.645355850422195, 9: 3.108151735270379, 10: 9.749367088607595, 11: 13.656028368794326, 12: 10.054830287206265, 13: 7.014571948998178, 14: 25.335526315789473}\n"
     ]
    }
   ],
   "source": [
    "class_weight = compute_class_weight(classes)\n",
    "print(class_weight)\n",
    "weight_tensor = convert_to_tensor(list(class_weight.values()))"
   ]
  },
  {
   "cell_type": "code",
   "execution_count": 87,
   "metadata": {},
   "outputs": [
    {
     "data": {
      "text/plain": [
       "<function models.image_model()>"
      ]
     },
     "execution_count": 87,
     "metadata": {},
     "output_type": "execute_result"
    }
   ],
   "source": [
    "model = image_model()"
   ]
  },
  {
   "cell_type": "code",
   "execution_count": 100,
   "metadata": {
    "colab": {
     "base_uri": "https://localhost:8080/"
    },
    "executionInfo": {
     "elapsed": 681,
     "status": "ok",
     "timestamp": 1608416635705,
     "user": {
      "displayName": "Killian Le Goff",
      "photoUrl": "",
      "userId": "08050555183663431107"
     },
     "user_tz": -60
    },
    "id": "NZYX7D_rl6w2",
    "outputId": "3929fe2c-3977-4316-b6fa-52bb7db2f1e6"
   },
   "outputs": [
    {
     "name": "stdout",
     "output_type": "stream",
     "text": [
      "Model: \"sequential_14\"\n",
      "_________________________________________________________________\n",
      "Layer (type)                 Output Shape              Param #   \n",
      "=================================================================\n",
      "conv2d_42 (Conv2D)           (None, 196, 196, 30)      2280      \n",
      "_________________________________________________________________\n",
      "activation_42 (Activation)   (None, 196, 196, 30)      0         \n",
      "_________________________________________________________________\n",
      "dropout_42 (Dropout)         (None, 196, 196, 30)      0         \n",
      "_________________________________________________________________\n",
      "conv2d_43 (Conv2D)           (None, 193, 193, 20)      9620      \n",
      "_________________________________________________________________\n",
      "activation_43 (Activation)   (None, 193, 193, 20)      0         \n",
      "_________________________________________________________________\n",
      "dropout_43 (Dropout)         (None, 193, 193, 20)      0         \n",
      "_________________________________________________________________\n",
      "conv2d_44 (Conv2D)           (None, 191, 191, 15)      2715      \n",
      "_________________________________________________________________\n",
      "activation_44 (Activation)   (None, 191, 191, 15)      0         \n",
      "_________________________________________________________________\n",
      "dropout_44 (Dropout)         (None, 191, 191, 15)      0         \n",
      "_________________________________________________________________\n",
      "max_pooling2d_14 (MaxPooling (None, 38, 38, 15)        0         \n",
      "_________________________________________________________________\n",
      "flatten_14 (Flatten)         (None, 21660)             0         \n",
      "_________________________________________________________________\n",
      "dense_14 (Dense)             (None, 15)                324915    \n",
      "=================================================================\n",
      "Total params: 339,530\n",
      "Trainable params: 339,530\n",
      "Non-trainable params: 0\n",
      "_________________________________________________________________\n"
     ]
    }
   ],
   "source": [
    "model.summary()"
   ]
  },
  {
   "cell_type": "code",
   "execution_count": 101,
   "metadata": {
    "colab": {
     "base_uri": "https://localhost:8080/"
    },
    "executionInfo": {
     "elapsed": 347810,
     "status": "ok",
     "timestamp": 1608416983758,
     "user": {
      "displayName": "Killian Le Goff",
      "photoUrl": "",
      "userId": "08050555183663431107"
     },
     "user_tz": -60
    },
    "id": "2Ovedf9bEpo6",
    "outputId": "1f78bae4-a0c0-4c59-dacd-786321363c94"
   },
   "outputs": [
    {
     "name": "stdout",
     "output_type": "stream",
     "text": [
      "Epoch 1/10\n",
      "420/420 [==============================] - 40s 80ms/step - loss: 2.7617 - accuracy: 0.8727\n",
      "Epoch 2/10\n",
      "420/420 [==============================] - 34s 80ms/step - loss: 2.6651 - accuracy: 0.8867\n",
      "Epoch 3/10\n",
      "420/420 [==============================] - 34s 81ms/step - loss: 2.6653 - accuracy: 0.8868\n",
      "Epoch 4/10\n",
      "420/420 [==============================] - 34s 81ms/step - loss: 2.6637 - accuracy: 0.8870\n",
      "Epoch 5/10\n",
      "420/420 [==============================] - 34s 81ms/step - loss: 2.6624 - accuracy: 0.8872\n",
      "Epoch 6/10\n",
      "420/420 [==============================] - 34s 81ms/step - loss: 2.6688 - accuracy: 0.8864\n",
      "Epoch 7/10\n",
      "420/420 [==============================] - 34s 82ms/step - loss: 2.6685 - accuracy: 0.8864\n",
      "Epoch 8/10\n",
      "420/420 [==============================] - 34s 82ms/step - loss: 2.6634 - accuracy: 0.8871\n",
      "Epoch 9/10\n",
      "420/420 [==============================] - 34s 81ms/step - loss: 2.6702 - accuracy: 0.8862\n",
      "Epoch 10/10\n",
      "420/420 [==============================] - 34s 81ms/step - loss: 2.6666 - accuracy: 0.8866\n"
     ]
    },
    {
     "data": {
      "text/plain": [
       "<tensorflow.python.keras.callbacks.History at 0x7eff5a464588>"
      ]
     },
     "execution_count": 101,
     "metadata": {
      "tags": []
     },
     "output_type": "execute_result"
    }
   ],
   "source": [
    "model.fit(X_train, Y_train, epochs=10) #train our CNN"
   ]
  },
  {
   "cell_type": "code",
   "execution_count": 102,
   "metadata": {
    "executionInfo": {
     "elapsed": 2374,
     "status": "ok",
     "timestamp": 1608417082084,
     "user": {
      "displayName": "Killian Le Goff",
      "photoUrl": "",
      "userId": "08050555183663431107"
     },
     "user_tz": -60
    },
    "id": "6DPbi3QUQhJd"
   },
   "outputs": [],
   "source": [
    "Y_pred = model.predict(X_test) #predict on new data\n",
    "Y_pred = np.array([np.argmax(elem) for elem in Y_pred])"
   ]
  },
  {
   "cell_type": "code",
   "execution_count": 103,
   "metadata": {
    "executionInfo": {
     "elapsed": 627,
     "status": "ok",
     "timestamp": 1608417084114,
     "user": {
      "displayName": "Killian Le Goff",
      "photoUrl": "",
      "userId": "08050555183663431107"
     },
     "user_tz": -60
    },
    "id": "uN19FZNmQv3N"
   },
   "outputs": [],
   "source": [
    "Y_real = Y_test.reshape(3358,15)\n",
    "Y_real = np.array([np.argmax(elem) for elem in Y_real])"
   ]
  },
  {
   "cell_type": "code",
   "execution_count": 104,
   "metadata": {
    "colab": {
     "base_uri": "https://localhost:8080/",
     "height": 765
    },
    "executionInfo": {
     "elapsed": 1161,
     "status": "ok",
     "timestamp": 1608417085899,
     "user": {
      "displayName": "Killian Le Goff",
      "photoUrl": "",
      "userId": "08050555183663431107"
     },
     "user_tz": -60
    },
    "id": "N8PLI_YvT0SX",
    "outputId": "c9678ea8-e39c-44cb-c8e8-a642aa8e60ae"
   },
   "outputs": [
    {
     "data": {
      "image/png": "[encoded data removed]",
      "text/plain": [
       "<Figure size 1080x864 with 2 Axes>"
      ]
     },
     "metadata": {
      "tags": []
     },
     "output_type": "display_data"
    }
   ],
   "source": [
    "plot_confusion(Y_real, Y_pred, y_dict)"
   ]
  },
  {
   "cell_type": "code",
   "execution_count": 106,
   "metadata": {
    "colab": {
     "base_uri": "https://localhost:8080/",
     "height": 724
    },
    "executionInfo": {
     "elapsed": 934,
     "status": "ok",
     "timestamp": 1608417111364,
     "user": {
      "displayName": "Killian Le Goff",
      "photoUrl": "",
      "userId": "08050555183663431107"
     },
     "user_tz": -60
    },
    "id": "IHziakSrcD-F",
    "outputId": "4cba1c96-168e-4fe8-bec5-5a77ab0b2368"
   },
   "outputs": [
    {
     "data": {
      "image/png": "[encoded data removed]",
      "text/plain": [
       "<Figure size 1080x864 with 2 Axes>"
      ]
     },
     "metadata": {
      "tags": []
     },
     "output_type": "display_data"
    }
   ],
   "source": [
    "keep = list(y_dict.keys())\n",
    "#keep.remove(\"Rock\")\n",
    "keep.remove(\"Electronic\")\n",
    "plot_confusion(Y_real,Y_pred, y_dict, keep)"
   ]
  },
  {
   "cell_type": "code",
   "execution_count": null,
   "metadata": {
    "id": "fB76RPLqaZA_"
   },
   "outputs": [],
   "source": []
  }
 ],
 "metadata": {
  "accelerator": "GPU",
  "colab": {
   "collapsed_sections": [
    "csK6KV1K_3R6",
    "JBVlKsGkAAWP",
    "V9Vfx9NQEhWv",
    "D877vt0PZBI_",
    "aq_71T9DGY1x",
    "7xnAmEC-IFUo"
   ],
   "name": "TP_image.ipynb",
   "provenance": []
  },
  "kernelspec": {
   "display_name": "Python 3",
   "language": "python",
   "name": "python3"
  },
  "language_info": {
   "codemirror_mode": {
    "name": "ipython",
    "version": 3
   },
   "file_extension": ".py",
   "mimetype": "text/x-python",
   "name": "python",
   "nbconvert_exporter": "python",
   "pygments_lexer": "ipython3",
   "version": "3.8.5"
  }
 },
 "nbformat": 4,
 "nbformat_minor": 1
}
