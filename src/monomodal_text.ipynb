{
 "cells": [
  {
   "cell_type": "markdown",
   "metadata": {},
   "source": [
    "Goal : explore the lyrics data, and make a simple model to predict the genras based on the lyrics"
   ]
  },
  {
   "cell_type": "markdown",
   "metadata": {},
   "source": [
    "# 1. Import and path configuration part"
   ]
  },
  {
   "cell_type": "code",
   "execution_count": 12,
   "metadata": {},
   "outputs": [
    {
     "name": "stdout",
     "output_type": "stream",
     "text": [
      "deep_features  labels.csv  metadata_msdi.csv  msdi_mapping.csv\r\n",
      "img\t       lyrics\t   mfcc\t\t      README.md\r\n"
     ]
    }
   ],
   "source": [
    "import sys, os\n",
    "sys.path.append(os.getcwd())\n",
    "datapath = \"../data/msdi/\"\n",
    "os.chdir(datapath)\n",
    "!ls"
   ]
  },
  {
   "cell_type": "code",
   "execution_count": 85,
   "metadata": {},
   "outputs": [],
   "source": [
    "import numpy as np\n",
    "import matplotlib as plt\n",
    "\n",
    "from sam_utils import *\n",
    "from models import *\n",
    "from utils import *"
   ]
  },
  {
   "cell_type": "code",
   "execution_count": 16,
   "metadata": {},
   "outputs": [],
   "source": [
    "msdi = get_msdi_dataframe(\"\")"
   ]
  },
  {
   "cell_type": "markdown",
   "metadata": {},
   "source": [
    "# 2. Data exploration"
   ]
  },
  {
   "cell_type": "code",
   "execution_count": 28,
   "metadata": {},
   "outputs": [
    {
     "name": "stdout",
     "output_type": "stream",
     "text": [
      "30712 14750\n"
     ]
    }
   ],
   "source": [
    "print(len(msdi), len(os.listdir(\"lyrics\"))) # we dont have the lyrics for each data (can be problematic for the multimodal part)"
   ]
  },
  {
   "cell_type": "code",
   "execution_count": 45,
   "metadata": {},
   "outputs": [],
   "source": [
    "# load all the lyrics data\n",
    "data = {}\n",
    "for elem in os.listdir(\"lyrics\"):\n",
    "    data[elem[:-5]] = pd.read_json(\"lyrics/\" + elem, typ=\"series\")"
   ]
  },
  {
   "cell_type": "code",
   "execution_count": 76,
   "metadata": {},
   "outputs": [
    {
     "name": "stdout",
     "output_type": "stream",
     "text": [
      "min = 2 max= 1739 mean= 236.44020338983051\n"
     ]
    },
    {
     "data": {
      "image/png": "[encoded data removed]",
      "text/plain": [
       "<Figure size 432x288 with 1 Axes>"
      ]
     },
     "metadata": {
      "needs_background": "light"
     },
     "output_type": "display_data"
    }
   ],
   "source": [
    "# Total wordcount of the words that appear in each song\n",
    "\n",
    "total_wordcount = []\n",
    "for k in data.keys():\n",
    "    total_wordcount.append(data[k].sum())\n",
    "    \n",
    "total_wordcount.sort()\n",
    "\n",
    "plt.plot(np.log(total_wordcount))\n",
    "plt.title(\"log(Number) of words in the lyrics by song\")\n",
    "\n",
    "print(\"min =\",min(total_wordcount),\"max=\", max(total_wordcount), \"mean=\", np.mean(total_wordcount))\n",
    "\n",
    "# there is a lot of variance in the number of words with have in the lyrics\n",
    "# do we need to filter out some lyrics ?"
   ]
  },
  {
   "cell_type": "code",
   "execution_count": 80,
   "metadata": {},
   "outputs": [
    {
     "name": "stdout",
     "output_type": "stream",
     "text": [
      "min = 1 max= 428 mean= 86.86447457627119\n"
     ]
    },
    {
     "data": {
      "image/png": "[encoded data removed]",
      "text/plain": [
       "<Figure size 432x288 with 1 Axes>"
      ]
     },
     "metadata": {
      "needs_background": "light"
     },
     "output_type": "display_data"
    }
   ],
   "source": [
    "# Number of distinct words in each song\n",
    "\n",
    "word_number = []\n",
    "\n",
    "for k in data.keys():\n",
    "    word_number.append(len(data[k]))\n",
    "    \n",
    "word_number.sort()\n",
    "\n",
    "plt.plot(np.log(word_number))\n",
    "plt.title(\"log(Number) of distinct words in the lyrics by song\")\n",
    "\n",
    "print(\"min =\",min(word_number),\"max=\", max(word_number), \"mean=\", np.mean(word_number))"
   ]
  },
  {
   "cell_type": "markdown",
   "metadata": {},
   "source": [
    "# 3. Training a classifier"
   ]
  },
  {
   "cell_type": "code",
   "execution_count": 86,
   "metadata": {},
   "outputs": [
    {
     "ename": "NameError",
     "evalue": "name 'lyrics_RNN' is not defined",
     "output_type": "error",
     "traceback": [
      "\u001b[0;31m---------------------------------------------------------------------------\u001b[0m",
      "\u001b[0;31mNameError\u001b[0m                                 Traceback (most recent call last)",
      "\u001b[0;32m<ipython-input-86-cc4819d09b93>\u001b[0m in \u001b[0;36m<module>\u001b[0;34m\u001b[0m\n\u001b[0;32m----> 1\u001b[0;31m \u001b[0mrnn_model\u001b[0m \u001b[0;34m=\u001b[0m \u001b[0mlyrics_RNN\u001b[0m\u001b[0;34m(\u001b[0m\u001b[0;34m)\u001b[0m\u001b[0;34m\u001b[0m\u001b[0;34m\u001b[0m\u001b[0m\n\u001b[0m\u001b[1;32m      2\u001b[0m \u001b[0mrnn_model\u001b[0m\u001b[0;34m.\u001b[0m\u001b[0mto\u001b[0m\u001b[0;34m(\u001b[0m\u001b[0mdevice\u001b[0m\u001b[0;34m)\u001b[0m\u001b[0;34m\u001b[0m\u001b[0;34m\u001b[0m\u001b[0m\n",
      "\u001b[0;31mNameError\u001b[0m: name 'lyrics_RNN' is not defined"
     ]
    }
   ],
   "source": [
    "rnn_model = lyrics_RNN()\n",
    "rnn_model.to(device)"
   ]
  },
  {
   "cell_type": "markdown",
   "metadata": {},
   "source": [
    "## 1. Data formatting"
   ]
  },
  {
   "cell_type": "code",
   "execution_count": null,
   "metadata": {},
   "outputs": [],
   "source": [
    "import torch\n",
    "import torch.nn as nn\n",
    "import torch.nn.functional as F\n",
    "import torch.optim as optim\n",
    "\n",
    "max_len = 250\n",
    "batch_size = 64\n",
    "embed_size = 128\n",
    "hidden_size = 128\n",
    "device = torch.device('cuda') "
   ]
  },
  {
   "cell_type": "code",
   "execution_count": null,
   "metadata": {},
   "outputs": [],
   "source": [
    "X = np.zeros((len(lyrics), max_len*2)) \n",
    "\n",
    "for i in range(len(lyrics)):\n",
    "    X[i,:max_len] = seen_words[i] \n",
    "    X[i,max_len:] = words_frequency[i]\n",
    "\n",
    "X = torch.from_numpy(X)\n",
    "Y = torch.LongTensor(labels_int)\n",
    "\n",
    "print(X.size())\n",
    "print(Y.size())"
   ]
  },
  {
   "cell_type": "code",
   "execution_count": null,
   "metadata": {},
   "outputs": [],
   "source": [
    "from sklearn.model_selection import train_test_split\n",
    "\n",
    "X_train,X_test,Y_train,Y_test = train_test_split(X,Y,test_size=0.3)\n",
    "\n",
    "print(X_train.size(),X_test.size())\n",
    "print(Y_train.size(),Y_test.size())"
   ]
  },
  {
   "cell_type": "code",
   "execution_count": null,
   "metadata": {},
   "outputs": [],
   "source": [
    "from torch.utils.data import TensorDataset, DataLoader\n",
    "train_set = TensorDataset(X_train, Y_train)\n",
    "test_set = TensorDataset(X_test, Y_test)\n",
    "\n",
    "train_loader = DataLoader(train_set, batch_size=batch_size, shuffle=False) #je les ai déjà shuffle avec train_test_split\n",
    "test_loader = DataLoader(test_set, batch_size=batch_size)"
   ]
  }
 ],
 "metadata": {
  "kernelspec": {
   "display_name": "Python 3",
   "language": "python",
   "name": "python3"
  },
  "language_info": {
   "codemirror_mode": {
    "name": "ipython",
    "version": 3
   },
   "file_extension": ".py",
   "mimetype": "text/x-python",
   "name": "python",
   "nbconvert_exporter": "python",
   "pygments_lexer": "ipython3",
   "version": "3.8.5"
  }
 },
 "nbformat": 4,
 "nbformat_minor": 4
}
