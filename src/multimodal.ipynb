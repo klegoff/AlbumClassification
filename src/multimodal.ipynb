{
 "cells": [
  {
   "cell_type": "markdown",
   "metadata": {},
   "source": [
    "# 0.Path config, function import"
   ]
  },
  {
   "cell_type": "code",
   "execution_count": 2,
   "metadata": {},
   "outputs": [],
   "source": [
    "import os, sys"
   ]
  },
  {
   "cell_type": "code",
   "execution_count": 6,
   "metadata": {},
   "outputs": [
    {
     "name": "stdout",
     "output_type": "stream",
     "text": [
      "maps_composers\tmisc  msdi  msx_lyrics_genre.txt\r\n"
     ]
    }
   ],
   "source": [
    "sys.path.append(os.getcwd())\n",
    "os.chdir(\"../data\")\n",
    "!ls"
   ]
  },
  {
   "cell_type": "code",
   "execution_count": 4,
   "metadata": {},
   "outputs": [],
   "source": [
    "from sam_utils import *"
   ]
  },
  {
   "cell_type": "markdown",
   "metadata": {},
   "source": [
    "# 1.Data import"
   ]
  },
  {
   "cell_type": "code",
   "execution_count": 22,
   "metadata": {},
   "outputs": [],
   "source": [
    "msdi = get_msdi_dataframe() # this dataframe has all the references of the data"
   ]
  },
  {
   "cell_type": "code",
   "execution_count": 23,
   "metadata": {
    "scrolled": true
   },
   "outputs": [
    {
     "data": {
      "text/html": [
       "<div>\n",
       "<style scoped>\n",
       "    .dataframe tbody tr th:only-of-type {\n",
       "        vertical-align: middle;\n",
       "    }\n",
       "\n",
       "    .dataframe tbody tr th {\n",
       "        vertical-align: top;\n",
       "    }\n",
       "\n",
       "    .dataframe thead th {\n",
       "        text-align: right;\n",
       "    }\n",
       "</style>\n",
       "<table border=\"1\" class=\"dataframe\">\n",
       "  <thead>\n",
       "    <tr style=\"text-align: right;\">\n",
       "      <th></th>\n",
       "      <th>Unnamed: 0</th>\n",
       "      <th>msd_track_id</th>\n",
       "      <th>genre</th>\n",
       "      <th>album_index</th>\n",
       "      <th>set</th>\n",
       "      <th>msd_artist_id</th>\n",
       "      <th>image_url</th>\n",
       "      <th>img</th>\n",
       "      <th>mfcc</th>\n",
       "      <th>deep_features</th>\n",
       "    </tr>\n",
       "  </thead>\n",
       "  <tbody>\n",
       "    <tr>\n",
       "      <th>0</th>\n",
       "      <td>0</td>\n",
       "      <td>TRABKJU128F422A7FE</td>\n",
       "      <td>Metal</td>\n",
       "      <td>0</td>\n",
       "      <td>train</td>\n",
       "      <td>ARBD4QW1187FB42153</td>\n",
       "      <td>http://artwork-cdn.7static.com/static/img/slee...</td>\n",
       "      <td>img/0000848744_200.jpg</td>\n",
       "      <td>mfcc/mfcc_A.npz</td>\n",
       "      <td>0</td>\n",
       "    </tr>\n",
       "    <tr>\n",
       "      <th>1</th>\n",
       "      <td>1</td>\n",
       "      <td>TRBLDQQ128F92E58B4</td>\n",
       "      <td>Rock</td>\n",
       "      <td>1</td>\n",
       "      <td>train</td>\n",
       "      <td>AR3RK011187FB3CE3B</td>\n",
       "      <td>http://artwork-cdn.7static.com/static/img/slee...</td>\n",
       "      <td>img/0000476534_200.jpg</td>\n",
       "      <td>mfcc/mfcc_B.npz</td>\n",
       "      <td>1</td>\n",
       "    </tr>\n",
       "  </tbody>\n",
       "</table>\n",
       "</div>"
      ],
      "text/plain": [
       "   Unnamed: 0        msd_track_id  genre  album_index    set  \\\n",
       "0           0  TRABKJU128F422A7FE  Metal            0  train   \n",
       "1           1  TRBLDQQ128F92E58B4   Rock            1  train   \n",
       "\n",
       "        msd_artist_id                                          image_url  \\\n",
       "0  ARBD4QW1187FB42153  http://artwork-cdn.7static.com/static/img/slee...   \n",
       "1  AR3RK011187FB3CE3B  http://artwork-cdn.7static.com/static/img/slee...   \n",
       "\n",
       "                      img             mfcc  deep_features  \n",
       "0  img/0000848744_200.jpg  mfcc/mfcc_A.npz              0  \n",
       "1  img/0000476534_200.jpg  mfcc/mfcc_B.npz              1  "
      ]
     },
     "execution_count": 23,
     "metadata": {},
     "output_type": "execute_result"
    }
   ],
   "source": [
    "msdi.head(2)"
   ]
  },
  {
   "cell_type": "code",
   "execution_count": null,
   "metadata": {},
   "outputs": [],
   "source": [
    "What we have to do:\n",
    "    \n",
    "-Get pretrained monomodal models without decision layer\n",
    "-Pass their outputs as input in a new multimodal model\n",
    "-Perform training, and compute performance metrics\n",
    "\n",
    "Could'nt make the monomodal works perfectly, so we couldn't really work on the multimodal part\n",
    "\n",
    "Some problems :\n",
    "    How to work with models both from tensorflow and keras ?\n",
    "    How to implement a weighted loss for our models (class imbalanced, and our models learn obvious prediction strategy)\n",
    "    "
   ]
  }
 ],
 "metadata": {
  "kernelspec": {
   "display_name": "Python 3",
   "language": "python",
   "name": "python3"
  },
  "language_info": {
   "codemirror_mode": {
    "name": "ipython",
    "version": 3
   },
   "file_extension": ".py",
   "mimetype": "text/x-python",
   "name": "python",
   "nbconvert_exporter": "python",
   "pygments_lexer": "ipython3",
   "version": "3.8.5"
  }
 },
 "nbformat": 4,
 "nbformat_minor": 4
}
